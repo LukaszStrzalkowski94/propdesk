{
 "cells": [
  {
   "cell_type": "code",
   "execution_count": 29,
   "metadata": {},
   "outputs": [],
   "source": [
    "from bs4 import BeautifulSoup\n",
    "import requests"
   ]
  },
  {
   "cell_type": "code",
   "execution_count": 30,
   "metadata": {},
   "outputs": [],
   "source": [
    "def pages_to_scrape(pages):\n",
    "    Lista_url= []\n",
    "    for page in range(1,pages+1):\n",
    "\n",
    "        search_url = f'https://www.domiporta.pl/mieszkanie/sprzedam/mazowieckie/warszawa?PageNumber={pages}'\n",
    "        response = requests.get(url)\n",
    "        html = response.text\n",
    "        soup = BeautifulSoup(html, 'html.parser')\n",
    "\n",
    "        # Znajdź wszystkie elementy <article> o klasie \"sneakpeak\"\n",
    "        sneakpeak_articles = soup.find_all('article', class_='sneakpeak')\n",
    "\n",
    "# Przetwarzanie każdego elementu sneakpeak\n",
    "        for sneakpeak_article in sneakpeak_articles:\n",
    "            # Znajdź element <a> wewnątrz każdego elementu sneakpeak i pobierz wartość atrybutu \"href\"\n",
    "            href_value = sneakpeak_article.find('a')['href']\n",
    "            Lista_url.append(href_value)\n",
    "    print('Skończone pobieranie ogłoszeń')        \n",
    "    return Lista_url"
   ]
  },
  {
   "cell_type": "code",
   "execution_count": 31,
   "metadata": {},
   "outputs": [
    {
     "name": "stdout",
     "output_type": "stream",
     "text": [
      "/nieruchomosci/sprzedam-mieszkanie-dwupokojowe-warszawa-praga-polnoc-karola-szymanowskiego-49m2/154637291\n",
      "/nowe/ogloszenie/ursus_centralny_warszawa-ursus_644093\n",
      "/nowe/ogloszenie/jutrzenki_92_warszawa-wlochy_643266\n",
      "/nowe/ogloszenie/jutrzenki_92_warszawa-wlochy_643275\n",
      "/nowe/ogloszenie/jutrzenki_92_warszawa-wlochy_643286\n",
      "/nowe/ogloszenie/jutrzenki_92_warszawa-wlochy_634511\n",
      "/nowe/ogloszenie/jutrzenki_92_warszawa-wlochy_634455\n",
      "/nowe/ogloszenie/jutrzenki_92_warszawa-wlochy_634469\n",
      "/nowe/ogloszenie/jutrzenki_92_warszawa-wlochy_634436\n",
      "/nowe/ogloszenie/miasto_moje_warszawa-bialoleka_643707\n",
      "/nowe/ogloszenie/przystanek_tarchomin_warszawa-bialoleka_643806\n",
      "/nowe/ogloszenie/przystanek_tarchomin_warszawa-bialoleka_643802\n",
      "/nowe/ogloszenie/miasteczko_nova_ochota_warszawa-wlochy_634199\n",
      "/nowe/ogloszenie/miasteczko_nova_ochota_warszawa-wlochy_615023\n",
      "/nowe/ogloszenie/nu-_warszawa_wola_-_pierwszy_etap_inwestycji_warszawa-wola_613267\n",
      "/nieruchomosci/sprzedam-mieszkanie-czteropokojowe-warszawa-wilanow-sarmacka-189m2/154654495\n",
      "/nieruchomosci/sprzedam-mieszkanie-trzypokojowe-warszawa-mokotow-zloty-potok-75m2/154624552\n",
      "/nieruchomosci/sprzedam-mieszkanie-dwupokojowe-warszawa-bemowo-szeligowska-47m2/154607094\n",
      "/nieruchomosci/sprzedam-mieszkanie-dwupokojowe-warszawa-bemowo-szeligowska-44m2/154607093\n",
      "/nieruchomosci/sprzedam-mieszkanie-trzypokojowe-warszawa-ursus-silnikowa-76m2/154601977\n",
      "/nieruchomosci/sprzedam-mieszkanie-czteropokojowe-warszawa-mokotow-bokserska-74m2/154581554\n",
      "/nieruchomosci/sprzedam-mieszkanie-trzypokojowe-warszawa-mokotow-bokserska-66m2/154580282\n",
      "/nieruchomosci/sprzedam-mieszkanie-trzypokojowe-warszawa-mokotow-bokserska-60m2/154575838\n",
      "/nieruchomosci/sprzedam-mieszkanie-trzypokojowe-warszawa-mokotow-klobucka-65m2/154559690\n",
      "/nieruchomosci/sprzedam-mieszkanie-czteropokojowe-warszawa-mokotow-bokserska-82m2/154488751\n",
      "/nieruchomosci/sprzedam-mieszkanie-trzypokojowe-warszawa-ursynow-nowy-sluzewiec-62m2/154487714\n",
      "/nieruchomosci/sprzedam-kawalerke-warszawa-srodmiescie-kawalerka-z-widna-kuchnia-ul-28m2/154633595\n",
      "/nieruchomosci/sprzedam-kawalerke-warszawa-srodmiescie-hoza-18m2/154615129\n",
      "/nowe/ogloszenie/ogrody_tawulkowa_warszawa-wawer_639139\n",
      "/nowe/ogloszenie/ogrody_tawulkowa_warszawa-wawer_639137\n",
      "/nowe/ogloszenie/ogrody_tawulkowa_warszawa-wawer_639156\n",
      "/nowe/ogloszenie/nowe_poludnie_2_warszawa-mokotow_639066\n",
      "/nowe/ogloszenie/osiedle_tercet_warszawa-targowek_639018\n",
      "/nowe/ogloszenie/art_garden_wilanow_warszawa-wilanow_643936\n",
      "/nowe/ogloszenie/art_garden_wilanow_warszawa-wilanow_643934\n",
      "/nowe/ogloszenie/art_garden_wilanow_warszawa-wilanow_643931\n",
      "/nieruchomosci/sprzedam-mieszkanie-dwupokojowe-warszawa-praga-polnoc-karola-szymanowskiego-49m2/154637291\n",
      "/nowe/ogloszenie/ursus_centralny_warszawa-ursus_644093\n",
      "/nowe/ogloszenie/jutrzenki_92_warszawa-wlochy_643266\n",
      "/nowe/ogloszenie/jutrzenki_92_warszawa-wlochy_643275\n",
      "/nowe/ogloszenie/jutrzenki_92_warszawa-wlochy_643286\n",
      "/nowe/ogloszenie/jutrzenki_92_warszawa-wlochy_634511\n",
      "/nowe/ogloszenie/jutrzenki_92_warszawa-wlochy_634455\n",
      "/nowe/ogloszenie/jutrzenki_92_warszawa-wlochy_634469\n",
      "/nowe/ogloszenie/jutrzenki_92_warszawa-wlochy_634436\n",
      "/nowe/ogloszenie/miasto_moje_warszawa-bialoleka_643707\n",
      "/nowe/ogloszenie/przystanek_tarchomin_warszawa-bialoleka_643806\n",
      "/nowe/ogloszenie/przystanek_tarchomin_warszawa-bialoleka_643802\n",
      "/nowe/ogloszenie/miasteczko_nova_ochota_warszawa-wlochy_634199\n",
      "/nowe/ogloszenie/miasteczko_nova_ochota_warszawa-wlochy_615023\n",
      "/nowe/ogloszenie/nu-_warszawa_wola_-_pierwszy_etap_inwestycji_warszawa-wola_613267\n",
      "/nieruchomosci/sprzedam-mieszkanie-czteropokojowe-warszawa-wilanow-sarmacka-189m2/154654495\n",
      "/nieruchomosci/sprzedam-mieszkanie-trzypokojowe-warszawa-mokotow-zloty-potok-75m2/154624552\n",
      "/nieruchomosci/sprzedam-mieszkanie-dwupokojowe-warszawa-bemowo-szeligowska-47m2/154607094\n",
      "/nieruchomosci/sprzedam-mieszkanie-dwupokojowe-warszawa-bemowo-szeligowska-44m2/154607093\n",
      "/nieruchomosci/sprzedam-mieszkanie-trzypokojowe-warszawa-ursus-silnikowa-76m2/154601977\n",
      "/nieruchomosci/sprzedam-mieszkanie-czteropokojowe-warszawa-mokotow-bokserska-74m2/154581554\n",
      "/nieruchomosci/sprzedam-mieszkanie-trzypokojowe-warszawa-mokotow-bokserska-66m2/154580282\n",
      "/nieruchomosci/sprzedam-mieszkanie-trzypokojowe-warszawa-mokotow-bokserska-60m2/154575838\n",
      "/nieruchomosci/sprzedam-mieszkanie-trzypokojowe-warszawa-mokotow-klobucka-65m2/154559690\n",
      "/nieruchomosci/sprzedam-mieszkanie-czteropokojowe-warszawa-mokotow-bokserska-82m2/154488751\n",
      "/nieruchomosci/sprzedam-mieszkanie-trzypokojowe-warszawa-ursynow-nowy-sluzewiec-62m2/154487714\n",
      "/nieruchomosci/sprzedam-kawalerke-warszawa-srodmiescie-kawalerka-z-widna-kuchnia-ul-28m2/154633595\n",
      "/nieruchomosci/sprzedam-kawalerke-warszawa-srodmiescie-hoza-18m2/154615129\n",
      "/nowe/ogloszenie/ogrody_tawulkowa_warszawa-wawer_639139\n",
      "/nowe/ogloszenie/ogrody_tawulkowa_warszawa-wawer_639137\n",
      "/nowe/ogloszenie/ogrody_tawulkowa_warszawa-wawer_639156\n",
      "/nowe/ogloszenie/nowe_poludnie_2_warszawa-mokotow_639066\n",
      "/nowe/ogloszenie/osiedle_tercet_warszawa-targowek_639018\n",
      "/nowe/ogloszenie/art_garden_wilanow_warszawa-wilanow_643936\n",
      "/nowe/ogloszenie/art_garden_wilanow_warszawa-wilanow_643934\n",
      "/nowe/ogloszenie/art_garden_wilanow_warszawa-wilanow_643931\n",
      "Skończone pobieranie ogłoszeń\n"
     ]
    }
   ],
   "source": [
    "x = pages_to_scrape(2)"
   ]
  }
 ],
 "metadata": {
  "kernelspec": {
   "display_name": "Python 3.11.0 64-bit",
   "language": "python",
   "name": "python3"
  },
  "language_info": {
   "codemirror_mode": {
    "name": "ipython",
    "version": 3
   },
   "file_extension": ".py",
   "mimetype": "text/x-python",
   "name": "python",
   "nbconvert_exporter": "python",
   "pygments_lexer": "ipython3",
   "version": "3.11.0"
  },
  "orig_nbformat": 4,
  "vscode": {
   "interpreter": {
    "hash": "aee8b7b246df8f9039afb4144a1f6fd8d2ca17a180786b69acc140d282b71a49"
   }
  }
 },
 "nbformat": 4,
 "nbformat_minor": 2
}
